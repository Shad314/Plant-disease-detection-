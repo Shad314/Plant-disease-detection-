{
  "nbformat": 4,
  "nbformat_minor": 0,
  "metadata": {
    "colab": {
      "name": "CNN.ipynb",
      "provenance": []
    },
    "kernelspec": {
      "name": "python3",
      "display_name": "Python 3"
    },
    "language_info": {
      "name": "python"
    },
    "accelerator": "GPU"
  },
  "cells": [
    {
      "cell_type": "code",
      "execution_count": 1,
      "metadata": {
        "id": "U40rcoMLeeLD"
      },
      "outputs": [],
      "source": [
        "from google.colab import drive"
      ]
    },
    {
      "cell_type": "code",
      "source": [
        "drive.mount('/content/gdrive')"
      ],
      "metadata": {
        "colab": {
          "base_uri": "https://localhost:8080/"
        },
        "id": "hcis21vXeeys",
        "outputId": "d98274b2-a7c5-4795-dac7-c368ddf311f2"
      },
      "execution_count": 2,
      "outputs": [
        {
          "output_type": "stream",
          "name": "stdout",
          "text": [
            "Drive already mounted at /content/gdrive; to attempt to forcibly remount, call drive.mount(\"/content/gdrive\", force_remount=True).\n"
          ]
        }
      ]
    },
    {
      "cell_type": "code",
      "source": [
        "path1 = \"/content/gdrive/MyDrive/Train/diseased\""
      ],
      "metadata": {
        "id": "0oZ5VdQWehsZ"
      },
      "execution_count": 3,
      "outputs": []
    },
    {
      "cell_type": "code",
      "source": [
        "path2 = \"/content/gdrive/MyDrive/Train/healthy\""
      ],
      "metadata": {
        "id": "nrNONShhej9p"
      },
      "execution_count": 4,
      "outputs": []
    },
    {
      "cell_type": "code",
      "source": [
        "import torch\n",
        "import torch.nn as nn\n",
        "import torch.optim as optim\n",
        "import numpy as np\n",
        "import torchvision\n",
        "from torchvision import datasets, models, transforms\n",
        "import matplotlib.pyplot as plt\n",
        "import os\n",
        "import cv2\n",
        "import glob\n",
        "from PIL import Image\n",
        "import pandas as pd\n",
        "import torch.nn.functional as Func\n",
        "from torch.utils.data import Dataset"
      ],
      "metadata": {
        "id": "JZx9BGvAetgg"
      },
      "execution_count": 5,
      "outputs": []
    },
    {
      "cell_type": "code",
      "source": [
        "import os\n",
        "train = []\n",
        "test = []\n",
        "l = [0,0]\n",
        "\n",
        "c = 0\n",
        "\n",
        "for filename in os.listdir(path1):\n",
        "  filename = path1 + \"/\" + filename\n",
        "  if c > 564:\n",
        "    l[0] = 1\n",
        "    test.append([filename,l])\n",
        "    c += 1\n",
        "  else:\n",
        "    l[0] = 1\n",
        "    train.append([filename,l])\n",
        "    c += 1"
      ],
      "metadata": {
        "id": "HvzROWl7ekcg"
      },
      "execution_count": 6,
      "outputs": []
    },
    {
      "cell_type": "code",
      "source": [
        "import os\n",
        "l = [0,0]\n",
        "\n",
        "c = 0\n",
        "\n",
        "for filename in os.listdir(path2):\n",
        "  filename = path2 + \"/\" + filename\n",
        "  if c > 654:\n",
        "    l[1] = 1\n",
        "    test.append([filename,l])\n",
        "    c += 1\n",
        "  else:\n",
        "    l[1] = 1\n",
        "    train.append([filename,l])\n",
        "    c += 1"
      ],
      "metadata": {
        "id": "LsnBfeKDemfR"
      },
      "execution_count": 7,
      "outputs": []
    },
    {
      "cell_type": "code",
      "source": [
        "class Dataset(Dataset):\n",
        "    \n",
        "\n",
        "    def __init__(self, train, root_dir, transform=None):\n",
        "        \n",
        "        self.landmarks_frame = train\n",
        "        self.root_dir = root_dir\n",
        "        self.transform = transform\n",
        "\n",
        "    def __len__(self):\n",
        "        return len(self.landmarks_frame)\n",
        "\n",
        "    def __getitem__(self, idx):\n",
        "        \n",
        "        img_name = os.path.join(self.root_dir,self.landmarks_frame[idx][0])\n",
        "        image = cv2.imread(img_name)\n",
        "        y = torch.tensor(self.landmarks_frame[idx][1])\n",
        "        y = y.float()\n",
        "        \n",
        "        \n",
        "\n",
        "        if self.transform:\n",
        "            image = self.transform(image)\n",
        "\n",
        "        return (image,y)"
      ],
      "metadata": {
        "id": "CLtrN5lNeoxw"
      },
      "execution_count": 8,
      "outputs": []
    },
    {
      "cell_type": "code",
      "source": [
        "print(len(train))"
      ],
      "metadata": {
        "colab": {
          "base_uri": "https://localhost:8080/"
        },
        "id": "S8SZAKOWeveI",
        "outputId": "bf0f23f9-2d8c-4c9b-d09b-0b344aab8502"
      },
      "execution_count": 9,
      "outputs": [
        {
          "output_type": "stream",
          "name": "stdout",
          "text": [
            "1220\n"
          ]
        }
      ]
    },
    {
      "cell_type": "code",
      "source": [
        "print(len(test))"
      ],
      "metadata": {
        "colab": {
          "base_uri": "https://localhost:8080/"
        },
        "id": "fJBassOHewDI",
        "outputId": "a2b07f37-d28c-45da-b83c-6691c5d4e291"
      },
      "execution_count": 10,
      "outputs": [
        {
          "output_type": "stream",
          "name": "stdout",
          "text": [
            "519\n"
          ]
        }
      ]
    },
    {
      "cell_type": "code",
      "source": [
        "device = torch.device('cuda' if torch.cuda.is_available() else 'cpu')"
      ],
      "metadata": {
        "id": "8lVBjWj8fse8"
      },
      "execution_count": 11,
      "outputs": []
    },
    {
      "cell_type": "code",
      "source": [
        "train_dataset = Dataset(train = train,root_dir='', transform = transforms.Compose([\n",
        "    transforms.ToTensor(),\n",
        "    transforms.Resize(256, transforms.InterpolationMode.BICUBIC),\n",
        "    transforms.Normalize(mean=[0.485, 0.456, 0.406], std=[0.229, 0.224, 0.225])\n",
        "\n",
        "]))"
      ],
      "metadata": {
        "id": "5h0UasI1exxx"
      },
      "execution_count": 12,
      "outputs": []
    },
    {
      "cell_type": "code",
      "source": [
        "test_dataset = Dataset(train = test,root_dir='', transform = transforms.Compose([\n",
        "    transforms.ToTensor(),\n",
        "    transforms.Resize(256, transforms.InterpolationMode.BICUBIC),\n",
        "    transforms.Normalize(mean=[0.485, 0.456, 0.406], std=[0.229, 0.224, 0.225])\n",
        "\n",
        "]))"
      ],
      "metadata": {
        "id": "bsFPfHnxezzB"
      },
      "execution_count": 13,
      "outputs": []
    },
    {
      "cell_type": "code",
      "source": [
        "num_classes = 2\n",
        "batch_size = 8\n",
        "num_epochs = 20"
      ],
      "metadata": {
        "id": "_2UHnAQSe1nY"
      },
      "execution_count": 14,
      "outputs": []
    },
    {
      "cell_type": "code",
      "source": [
        "trainloader = torch.utils.data.DataLoader(train_dataset, shuffle=True, batch_size=batch_size)\n",
        "\n",
        "testloader = torch.utils.data.DataLoader(test_dataset, shuffle=True, batch_size=batch_size)"
      ],
      "metadata": {
        "id": "EXk6cad6e3rw"
      },
      "execution_count": 15,
      "outputs": []
    },
    {
      "cell_type": "code",
      "source": [
        "class ConvNet_SGD(nn.Module):\n",
        "    def __init__(self):\n",
        "        super(ConvNet_SGD, self).__init__()\n",
        "        self.conv1 = nn.Conv2d(3, 6, 5)\n",
        "        self.pool = nn.MaxPool2d(4, 4)\n",
        "        self.pool2 = nn.MaxPool2d(3,3)\n",
        "        self.conv2 = nn.Conv2d(6, 10, 4)\n",
        "        self.conv3 = nn.Conv2d(10,20, 4)\n",
        "        self.fc1 = nn.Linear(20*4*4, 120)\n",
        "        self.fc2 = nn.Linear(120, 10)\n",
        "        self.fc3= nn.Linear(10,2)\n",
        " \n",
        "\n",
        "    def forward(self, x):\n",
        "\n",
        "        x = self.pool(self.conv1(x))  \n",
        "        x = self.pool(self.conv2(x))  \n",
        "        x=  self.pool2(self.conv3(x))\n",
        "        x = x.view(-1, 20*4*4)           \n",
        "        x = Func.relu(self.fc1(x))              \n",
        "        x = self.fc2(x)         \n",
        "        x = self.fc3(x)    \n",
        "        return x"
      ],
      "metadata": {
        "id": "8oqCnCGPe5qw"
      },
      "execution_count": 16,
      "outputs": []
    },
    {
      "cell_type": "code",
      "source": [
        "model=ConvNet_SGD().to(device)"
      ],
      "metadata": {
        "id": "BxRb2-5ke7Uw"
      },
      "execution_count": 17,
      "outputs": []
    },
    {
      "cell_type": "code",
      "source": [
        "criterion = nn.CrossEntropyLoss()\n",
        "optimizer = torch.optim.SGD(model.parameters(), lr=0.01)\n",
        "num_epochs=20"
      ],
      "metadata": {
        "id": "wAMX7hb5e9Dw"
      },
      "execution_count": 18,
      "outputs": []
    },
    {
      "cell_type": "code",
      "source": [
        "losses = []"
      ],
      "metadata": {
        "id": "C5HzOqdcmLSI"
      },
      "execution_count": 19,
      "outputs": []
    },
    {
      "cell_type": "code",
      "source": [
        "def train_model(model):\n",
        "\n",
        "    for epoch in range(num_epochs):\n",
        "        print('Epoch {}/{}'.format(epoch, num_epochs - 1))\n",
        "        print('-' * 10)\n",
        "\n",
        "        model.train()\n",
        "        running_loss = 0.0\n",
        "\n",
        "        for inputs, labels in trainloader:\n",
        "            inputs = inputs.to(device)\n",
        "            labels = labels.to(device)\n",
        " \n",
        "\n",
        " \n",
        "            optimizer.zero_grad()\n",
        "\n",
        "\n",
        "            with torch.set_grad_enabled(True):\n",
        "            \n",
        "              outputs = model(inputs)\n",
        "    \n",
        "              loss = criterion(outputs, labels)\n",
        "\n",
        "              _, preds = torch.max(outputs, 1)\n",
        "              loss.backward()\n",
        "              optimizer.step()\n",
        "\n",
        "\n",
        "            running_loss += loss.item() * inputs.size(0)\n",
        "              \n",
        "\n",
        "        epoch_loss = running_loss / len(trainloader.dataset)\n",
        "        print('Loss: {:.4f} '.format(epoch_loss))\n",
        "        losses.append(epoch_loss)"
      ],
      "metadata": {
        "id": "yd6ahrGqfJ7B"
      },
      "execution_count": 20,
      "outputs": []
    },
    {
      "cell_type": "code",
      "source": [
        "train_model(model)"
      ],
      "metadata": {
        "colab": {
          "base_uri": "https://localhost:8080/"
        },
        "id": "UDVAR8ZamQwN",
        "outputId": "03ac3781-8e65-4ec5-8ee5-24a605d70d18"
      },
      "execution_count": 21,
      "outputs": [
        {
          "output_type": "stream",
          "name": "stdout",
          "text": [
            "Epoch 0/9\n",
            "----------\n",
            "Loss: 0.6841 \n",
            "Epoch 1/9\n",
            "----------\n",
            "Loss: 0.5196 \n",
            "Epoch 2/9\n",
            "----------\n",
            "Loss: 0.3340 \n",
            "Epoch 3/9\n",
            "----------\n",
            "Loss: 0.2516 \n",
            "Epoch 4/9\n",
            "----------\n",
            "Loss: 0.2185 \n",
            "Epoch 5/9\n",
            "----------\n",
            "Loss: 0.1729 \n",
            "Epoch 6/9\n",
            "----------\n",
            "Loss: 0.1402 \n",
            "Epoch 7/9\n",
            "----------\n",
            "Loss: 0.1399 \n",
            "Epoch 8/9\n",
            "----------\n",
            "Loss: 0.1176 \n",
            "Epoch 9/9\n",
            "----------\n",
            "Loss: 0.1301 \n"
          ]
        }
      ]
    },
    {
      "cell_type": "code",
      "source": [
        "import matplotlib.pyplot as plt"
      ],
      "metadata": {
        "id": "IKXcVTW3CLwA"
      },
      "execution_count": 4,
      "outputs": []
    },
    {
      "cell_type": "code",
      "source": [
        "plt.plot( losses,color='blue', label= \"Train_Loss\", linewidth=2)\n",
        "plt.ylabel('Train Loss')\n",
        "plt.xlabel('Number of Epochs')"
      ],
      "metadata": {
        "colab": {
          "base_uri": "https://localhost:8080/",
          "height": 296
        },
        "id": "JMpeXtKSB22g",
        "outputId": "61ad66dd-ff2b-4d0f-cf6c-96fc5863367b"
      },
      "execution_count": 6,
      "outputs": [
        {
          "output_type": "execute_result",
          "data": {
            "text/plain": [
              "Text(0.5, 0, 'Number of Epochs')"
            ]
          },
          "metadata": {},
          "execution_count": 6
        },
        {
          "output_type": "display_data",
          "data": {
            "text/plain": [
              "<Figure size 432x288 with 1 Axes>"
            ],
            "image/png": "[encoded data removed]"
          },
          "metadata": {
            "needs_background": "light"
          }
        }
      ]
    },
    {
      "cell_type": "code",
      "source": [
        "Predicted = []\n",
        "Lab = []"
      ],
      "metadata": {
        "id": "2CugkT6pg4ih"
      },
      "execution_count": 22,
      "outputs": []
    },
    {
      "cell_type": "code",
      "source": [
        "correct = 0\n",
        "total = 0\n",
        "\n",
        "with torch.no_grad():\n",
        "    for images, labels in testloader:\n",
        "\n",
        "        images = images.to(device)\n",
        "        labels = labels.to(device)\n",
        "        \n",
        "        outputs = model(images)\n",
        "\n",
        "\n",
        "        _, predicted = torch.max(outputs, 1)\n",
        "\n",
        "        _, lab = torch.max(labels , 1)\n",
        "        for x in range(len(predicted)):\n",
        "          Predicted.append(int(predicted[x]))\n",
        "          Lab.append(int(lab[x]))\n",
        "\n",
        "        total += labels.size(0)\n",
        "        correct += (predicted == lab).sum().item()\n",
        "\n",
        "print(f'Accuracy of the network on the test images: {100 * correct // total} %')"
      ],
      "metadata": {
        "colab": {
          "base_uri": "https://localhost:8080/"
        },
        "id": "2PakfTPhfN7g",
        "outputId": "7c64b38f-c972-4ac8-e38b-8c76753b91a6"
      },
      "execution_count": 23,
      "outputs": [
        {
          "output_type": "stream",
          "name": "stdout",
          "text": [
            "Accuracy of the network on the test images: 93 %\n"
          ]
        }
      ]
    },
    {
      "cell_type": "code",
      "source": [
        "from sklearn.metrics import classification_report\n",
        "y_true = Lab\n",
        "y_pred = Predicted\n",
        "target_names = ['class' + str(x) for x in range(2)]\n",
        "print(classification_report(y_true, y_pred, target_names=target_names))"
      ],
      "metadata": {
        "colab": {
          "base_uri": "https://localhost:8080/"
        },
        "id": "yYH1PyYrnSC4",
        "outputId": "f47b6677-9ae4-4e00-9d80-cfe36b764495"
      },
      "execution_count": 24,
      "outputs": [
        {
          "output_type": "stream",
          "name": "stdout",
          "text": [
            "              precision    recall  f1-score   support\n",
            "\n",
            "      class0       0.91      0.96      0.93       240\n",
            "      class1       0.96      0.92      0.94       279\n",
            "\n",
            "    accuracy                           0.94       519\n",
            "   macro avg       0.94      0.94      0.94       519\n",
            "weighted avg       0.94      0.94      0.94       519\n",
            "\n"
          ]
        }
      ]
    },
    {
      "cell_type": "code",
      "source": [
        ""
      ],
      "metadata": {
        "id": "2OrqaiT9-oNY"
      },
      "execution_count": null,
      "outputs": []
    }
  ]
}